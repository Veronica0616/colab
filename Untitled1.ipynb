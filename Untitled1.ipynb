{
  "nbformat": 4,
  "nbformat_minor": 0,
  "metadata": {
    "colab": {
      "provenance": [],
      "authorship_tag": "ABX9TyOAN/aE35aigTn0t+6MnFAL",
      "include_colab_link": true
    },
    "kernelspec": {
      "name": "python3",
      "display_name": "Python 3"
    },
    "language_info": {
      "name": "python"
    }
  },
  "cells": [
    {
      "cell_type": "markdown",
      "metadata": {
        "id": "view-in-github",
        "colab_type": "text"
      },
      "source": [
        "<a href=\"https://colab.research.google.com/github/Veronica0616/colab/blob/main/Untitled1.ipynb\" target=\"_parent\"><img src=\"https://colab.research.google.com/assets/colab-badge.svg\" alt=\"Open In Colab\"/></a>"
      ]
    },
    {
      "cell_type": "code",
      "execution_count": null,
      "metadata": {
        "colab": {
          "base_uri": "https://localhost:8080/"
        },
        "id": "dhZtpQ-DGSV6",
        "outputId": "f221aa5b-13ef-4298-bb1f-5021e482b3cc"
      },
      "outputs": [
        {
          "output_type": "stream",
          "name": "stdout",
          "text": [
            "Hello, Linguistics\n"
          ]
        }
      ],
      "source": [
        "print(\"Hello, Linguistics\")"
      ]
    },
    {
      "cell_type": "code",
      "source": [
        "print(\"Hello, Linguistics\".lower())"
      ],
      "metadata": {
        "colab": {
          "base_uri": "https://localhost:8080/"
        },
        "id": "kjrv3oNaGnRq",
        "outputId": "da4ee26b-84a1-40c0-c866-b055e2232405"
      },
      "execution_count": null,
      "outputs": [
        {
          "output_type": "stream",
          "name": "stdout",
          "text": [
            "hello, linguistics\n"
          ]
        }
      ]
    },
    {
      "cell_type": "code",
      "source": [
        "num = [13, 5, 1, 4, 2]\n",
        "print(num[0], num[-1])"
      ],
      "metadata": {
        "colab": {
          "base_uri": "https://localhost:8080/"
        },
        "id": "INS1aViKG21t",
        "outputId": "e0d15dca-4c68-4475-d6ab-8b18dcf4d712"
      },
      "execution_count": null,
      "outputs": [
        {
          "output_type": "stream",
          "name": "stdout",
          "text": [
            "13 2\n"
          ]
        }
      ]
    },
    {
      "cell_type": "code",
      "source": [
        "animals_1 = [\"Dog\", \"Cat\", \"Bird\", \"Tiger\", \"Elephant\"]\n",
        "animals_2 = [\"Dog\"]\n",
        "\n",
        "if len(animals_1) > 2:\n",
        "  print(\"yes\")\n",
        "else:\n",
        "  print(\"no\")\n",
        "\n",
        "if len(animals_2) > 2:\n",
        "  print(\"yes\")\n",
        "else:\n",
        "  print(\"no\")\n"
      ],
      "metadata": {
        "colab": {
          "base_uri": "https://localhost:8080/"
        },
        "id": "VHmr0ivzHLCt",
        "outputId": "abf0fd12-3a96-4567-fa93-ae63028f1b46"
      },
      "execution_count": null,
      "outputs": [
        {
          "output_type": "stream",
          "name": "stdout",
          "text": [
            "yes\n",
            "no\n"
          ]
        }
      ]
    },
    {
      "cell_type": "markdown",
      "source": [],
      "metadata": {
        "id": "oAsfaZZgGWwe"
      }
    }
  ]
}