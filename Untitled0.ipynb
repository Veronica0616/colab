{
  "nbformat": 4,
  "nbformat_minor": 0,
  "metadata": {
    "colab": {
      "provenance": [],
      "authorship_tag": "ABX9TyNRBbFaMBc8M/mjihoZlRbL",
      "include_colab_link": true
    },
    "kernelspec": {
      "name": "python3",
      "display_name": "Python 3"
    },
    "language_info": {
      "name": "python"
    }
  },
  "cells": [
    {
      "cell_type": "markdown",
      "metadata": {
        "id": "view-in-github",
        "colab_type": "text"
      },
      "source": [
        "<a href=\"https://colab.research.google.com/github/Veronica0616/colab/blob/main/Untitled0.ipynb\" target=\"_parent\"><img src=\"https://colab.research.google.com/assets/colab-badge.svg\" alt=\"Open In Colab\"/></a>"
      ]
    },
    {
      "cell_type": "code",
      "execution_count": null,
      "metadata": {
        "colab": {
          "base_uri": "https://localhost:8080/"
        },
        "id": "0plf5QzTH6Lh",
        "outputId": "cca999c3-07dd-4ce7-fa4d-992b8e991b4d"
      },
      "outputs": [
        {
          "output_type": "stream",
          "name": "stdout",
          "text": [
            "dinosaur\n"
          ]
        }
      ],
      "source": [
        "print('dinosaur')"
      ]
    },
    {
      "cell_type": "code",
      "source": [
        "#string\n",
        "word = \"dinosaur\""
      ],
      "metadata": {
        "id": "fn145QFiDoOh"
      },
      "execution_count": null,
      "outputs": []
    },
    {
      "cell_type": "code",
      "source": [
        "#number\n",
        "num = 9\n"
      ],
      "metadata": {
        "id": "sjp7aSZSERDh"
      },
      "execution_count": null,
      "outputs": []
    },
    {
      "cell_type": "code",
      "source": [
        "# Boolean\n",
        "is_true = True\n",
        "is_false = False"
      ],
      "metadata": {
        "id": "BonHjQwyEcte"
      },
      "execution_count": null,
      "outputs": []
    },
    {
      "cell_type": "code",
      "source": [
        "# List\n",
        "scores = [90, 80, 100, 65]\n",
        "sports = [\"basketball\", \"baseball\"]"
      ],
      "metadata": {
        "id": "sBoekXhpE5Po"
      },
      "execution_count": null,
      "outputs": []
    },
    {
      "cell_type": "code",
      "source": [
        "print('hola')"
      ],
      "metadata": {
        "colab": {
          "base_uri": "https://localhost:8080/"
        },
        "id": "BsSWRliAIpxM",
        "outputId": "f585caef-9221-46c3-f544-c82e76a8bead"
      },
      "execution_count": null,
      "outputs": [
        {
          "output_type": "stream",
          "name": "stdout",
          "text": [
            "hola\n"
          ]
        }
      ]
    }
  ]
}