{
  "nbformat": 4,
  "nbformat_minor": 0,
  "metadata": {
    "colab": {
      "provenance": [],
      "authorship_tag": "ABX9TyOChJDohM/txakDmSkNQabL",
      "include_colab_link": true
    },
    "kernelspec": {
      "name": "python3",
      "display_name": "Python 3"
    },
    "language_info": {
      "name": "python"
    }
  },
  "cells": [
    {
      "cell_type": "markdown",
      "metadata": {
        "id": "view-in-github",
        "colab_type": "text"
      },
      "source": [
        "<a href=\"https://colab.research.google.com/github/Veronica0616/colab/blob/main/colab.ipynb\" target=\"_parent\"><img src=\"https://colab.research.google.com/assets/colab-badge.svg\" alt=\"Open In Colab\"/></a>"
      ]
    },
    {
      "cell_type": "code",
      "execution_count": 1,
      "metadata": {
        "colab": {
          "base_uri": "https://localhost:8080/"
        },
        "id": "D4Od0m4rIaTX",
        "outputId": "21ae5035-5cb8-4681-e040-ce462275fa1c"
      },
      "outputs": [
        {
          "output_type": "stream",
          "name": "stderr",
          "text": [
            "[nltk_data] Downloading package stopwords to /root/nltk_data...\n",
            "[nltk_data]   Unzipping corpora/stopwords.zip.\n",
            "[nltk_data] Downloading package punkt to /root/nltk_data...\n",
            "[nltk_data]   Unzipping tokenizers/punkt.zip.\n"
          ]
        },
        {
          "output_type": "stream",
          "name": "stdout",
          "text": [
            "詞彙總量: 37\n",
            "詞彙多樣性: 29\n",
            "歌曲 1 的情感極性: -0.09107142857142858\n",
            "歌曲 2 的情感極性: 0.0\n"
          ]
        }
      ],
      "source": [
        "import nltk\n",
        "from nltk.corpus import stopwords\n",
        "from collections import Counter\n",
        "import string\n",
        "from textblob import TextBlob\n",
        "\n",
        "# 確保你已經下載了所需的資源\n",
        "nltk.download('stopwords')\n",
        "nltk.download('punkt')\n",
        "\n",
        "# 假設我們有一個包含所有歌詞的列表\n",
        "lyrics = [\n",
        "    \"I'm sorry, the old Taylor can't come to the phone right now. Why? Oh, 'cause she's dead!\",\n",
        "    \"We are never ever ever getting back together. You go talk to your friends, talk to my friends, talk to me.\",\n",
        "    # 添加更多的歌詞...\n",
        "]\n",
        "\n",
        "# 計算詞彙總量和詞彙多樣性\n",
        "def calculate_vocabulary(lyrics):\n",
        "    all_words = []\n",
        "    for lyric in lyrics:\n",
        "        words = nltk.word_tokenize(lyric)\n",
        "        words = [word.lower() for word in words if word.isalpha()] # 去除標點符號\n",
        "        all_words.extend(words)\n",
        "\n",
        "    total_vocab = len(all_words)\n",
        "    unique_vocab = len(set(all_words))\n",
        "\n",
        "    return total_vocab, unique_vocab\n",
        "\n",
        "total_vocab, unique_vocab = calculate_vocabulary(lyrics)\n",
        "print(f\"詞彙總量: {total_vocab}\")\n",
        "print(f\"詞彙多樣性: {unique_vocab}\")\n",
        "\n",
        "# 情感分析\n",
        "def sentiment_analysis(lyrics):\n",
        "    sentiments = []\n",
        "    for lyric in lyrics:\n",
        "        blob = TextBlob(lyric)\n",
        "        sentiments.append(blob.sentiment.polarity)\n",
        "\n",
        "    return sentiments\n",
        "\n",
        "sentiments = sentiment_analysis(lyrics)\n",
        "for i, sentiment in enumerate(sentiments):\n",
        "    print(f\"歌曲 {i+1} 的情感極性: {sentiment}\")"
      ]
    }
  ]
}